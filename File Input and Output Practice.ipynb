{
 "cells": [
  {
   "cell_type": "markdown",
   "id": "70c968f9-2b10-4d08-87df-848c372217ba",
   "metadata": {},
   "source": [
    "# 1. Write a program to read the text from a given file 'poem.txt', and find out whether it contains the word 'twinkle'."
   ]
  },
  {
   "cell_type": "code",
   "execution_count": 4,
   "id": "dc5ed120-c510-47d7-8936-6eb1d2899199",
   "metadata": {},
   "outputs": [
    {
     "name": "stdout",
     "output_type": "stream",
     "text": [
      "Twinkle is present\n"
     ]
    }
   ],
   "source": [
    "f = open('poem.txt', 'r')\n",
    "data = f.read()\n",
    "if 'Twinkle' in data:\n",
    "    print(\"Twinkle is present\")\n",
    "\n",
    "else:\n",
    "    print(\"Twinkle is not present\")\n",
    "\n",
    "f.close()"
   ]
  },
  {
   "cell_type": "markdown",
   "id": "489284a8-260f-4a97-b6d5-21841826d2c1",
   "metadata": {},
   "source": [
    "# 2.The game() function in a program lets a user play a game and returns the score as an integer. You need to read a file 'hiscore.txt' which is either blank or contains the previous hi-score.You need to write a program to update the hi-score whenever game() breaks the hi-score."
   ]
  },
  {
   "cell_type": "code",
   "execution_count": 14,
   "id": "df02e5fe-d0ba-4bf3-bc13-5320c0c68cd7",
   "metadata": {},
   "outputs": [],
   "source": [
    "def game():\n",
    "    return 64\n",
    "\n",
    "score = game()\n",
    "with open (\"Hiscore.txt\") as f:\n",
    "    Hiscore = int(f.read())\n",
    "\n",
    "if Hiscore < score:\n",
    "    with open(\"Hiscore.txt\", \"w\") as f:\n",
    "        f.write(str(score))"
   ]
  },
  {
   "cell_type": "markdown",
   "id": "b2fb55fa-279d-4ba6-b729-06d7fe47b717",
   "metadata": {},
   "source": [
    "# 3.Write a program to generate multiplication tables from 2 to 20 and write it to the different file.Place these files in a folder for a 13 year old."
   ]
  },
  {
   "cell_type": "code",
   "execution_count": 26,
   "id": "4fcbb47e-037c-4dec-b8c1-5def7a93e015",
   "metadata": {},
   "outputs": [],
   "source": [
    "for i in range(1, 21):\n",
    "    with open(f\"multiplication_table{i}.txt\", 'w') as f:\n",
    "        for j in range(1, 11):\n",
    "            f.write(f\"{i} x {j} = {i * j}\\n\")"
   ]
  },
  {
   "cell_type": "markdown",
   "id": "064ecb32-79e5-48cd-8e3b-8d0c32118134",
   "metadata": {},
   "source": [
    "# 4.A File contains a word \"Donkey\" multiple times.You need to write a program which replaces this word with ###### by updating the same file."
   ]
  },
  {
   "cell_type": "code",
   "execution_count": 40,
   "id": "11e7ce77-f323-4d24-8ca5-8bd944fce7f9",
   "metadata": {},
   "outputs": [],
   "source": [
    "with open (\"sample.txt\") as f:\n",
    "    content = f.read()\n",
    "\n",
    "content = content.replace(\"Donkey\", \"######\")"
   ]
  },
  {
   "cell_type": "markdown",
   "id": "455d71e8-dd26-4068-b48e-8186e5415777",
   "metadata": {},
   "source": [
    "# 5.Write a program to make a copy of a text file \"this.txt\"."
   ]
  },
  {
   "cell_type": "code",
   "execution_count": 48,
   "id": "59fa86c6-5676-4475-b295-f73e61d74da1",
   "metadata": {},
   "outputs": [
    {
     "name": "stdout",
     "output_type": "stream",
     "text": [
      "HI! EVERYBODY\n"
     ]
    }
   ],
   "source": [
    "with open (\"This.txt\") as f:\n",
    "    data = f.read()\n",
    "\n",
    "with open (\"copy.txt\", \"w\") as f:\n",
    "    f.write(data)\n",
    "\n",
    "print(data)"
   ]
  },
  {
   "cell_type": "markdown",
   "id": "b1b50a99-feff-4b83-9a83-a05c0005e140",
   "metadata": {},
   "source": [
    "# 6.Write a program to find out whether a file is identical & matches the content of another file."
   ]
  },
  {
   "cell_type": "code",
   "execution_count": 51,
   "id": "29e8e870-272b-4a24-b998-4e939b6d7fa1",
   "metadata": {},
   "outputs": [
    {
     "name": "stdout",
     "output_type": "stream",
     "text": [
      "files are identical\n"
     ]
    }
   ],
   "source": [
    "file1 = \"This.txt\"\n",
    "file2 = \"copy.txt\"\n",
    "\n",
    "with open (file1) as f:\n",
    "    f1 = f.read()\n",
    "\n",
    "with open (file2) as f:\n",
    "    f2 = f.read()\n",
    "\n",
    "if f1 == f2:\n",
    "    print(\"files are identical\")\n",
    "\n",
    "else:\n",
    "    print(\"files are not indentical\")"
   ]
  },
  {
   "cell_type": "markdown",
   "id": "54ac79b4-9f4e-4003-8231-0463f30b14b9",
   "metadata": {},
   "source": [
    "# 7.Write a program to wipe out the contents of a file using python."
   ]
  },
  {
   "cell_type": "code",
   "execution_count": 54,
   "id": "8873bd4e-bf1d-4b25-8190-c8ca457525b0",
   "metadata": {},
   "outputs": [],
   "source": [
    "filename = \"copy.txt\"\n",
    "with open (filename, \"w\") as f:\n",
    "    f.write(\" \")"
   ]
  },
  {
   "cell_type": "markdown",
   "id": "5c7c6f35-77fd-4234-b08f-768ee73e270e",
   "metadata": {},
   "source": [
    "# 8.Write a python program to rename a file to \"rename_by_python.txt\"."
   ]
  },
  {
   "cell_type": "code",
   "execution_count": 64,
   "id": "839454ee-68c2-4364-905b-3ccbbef67190",
   "metadata": {},
   "outputs": [],
   "source": [
    "import os\n",
    "\n",
    "old_name = \"copy.txt\"\n",
    "new_name = \"rename_by_python.txt\"\n",
    "\n",
    "with open (old_name) as f:\n",
    "    content = f.read()\n",
    "\n",
    "with open (new_name, \"w\") as f:\n",
    "    f.write(content)\n",
    "\n",
    "os.remove(old_name)"
   ]
  }
 ],
 "metadata": {
  "kernelspec": {
   "display_name": "Python 3 (ipykernel)",
   "language": "python",
   "name": "python3"
  },
  "language_info": {
   "codemirror_mode": {
    "name": "ipython",
    "version": 3
   },
   "file_extension": ".py",
   "mimetype": "text/x-python",
   "name": "python",
   "nbconvert_exporter": "python",
   "pygments_lexer": "ipython3",
   "version": "3.11.7"
  }
 },
 "nbformat": 4,
 "nbformat_minor": 5
}
